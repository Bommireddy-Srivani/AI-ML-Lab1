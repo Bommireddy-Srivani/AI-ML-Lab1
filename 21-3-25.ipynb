{
 "cells": [
  {
   "cell_type": "code",
   "execution_count": 13,
   "id": "f0008d59-7496-49f8-a267-132d07d074b7",
   "metadata": {},
   "outputs": [
    {
     "name": "stdout",
     "output_type": "stream",
     "text": [
      "mode is 34\n"
     ]
    }
   ],
   "source": [
    "#calculation of mode\n",
    "import statistics\n",
    "temp=[34,40,29,33,42,40,39,34,34,33]\n",
    "print(\"mode is\",statistics.mode(temp))\n",
    "        "
   ]
  },
  {
   "cell_type": "code",
   "execution_count": 31,
   "id": "bf6fdd1b-7143-454e-b6ca-20c07d65374b",
   "metadata": {},
   "outputs": [
    {
     "name": "stdout",
     "output_type": "stream",
     "text": [
      "[(10, 20, 30), (30, 40, 50), (50, 60, 80)]\n"
     ]
    }
   ],
   "source": [
    "# Replacing the last element of the last list\n",
    "li = [(10, 20, 30), (30, 40, 50), (50, 60, 70)]\n",
    "temp = list(li.pop()) \n",
    "temp[-1] = 80  \n",
    "li.append(tuple(temp)) \n",
    "print(li)"
   ]
  },
  {
   "cell_type": "code",
   "execution_count": 33,
   "id": "3d9f49d5-5c29-437e-be4f-646dd675d7e7",
   "metadata": {},
   "outputs": [
    {
     "name": "stdout",
     "output_type": "stream",
     "text": [
      "Employee_id not present in the dictionary\n"
     ]
    }
   ],
   "source": [
    "#dictionaries\n",
    "emp_dict={'Name':'Sankat','Skills':['python','ML','DL'],'Bond':6.0,'Promotion_year':[2016,2018,2020]}\n",
    "if 'employee_id' in emp_dict.keys():\n",
    "    print(\"Employee_id present in the dictionary\")\n",
    "else:\n",
    "    print(\"Employee_id not present in the dictionary\")\n",
    "if 'Bond' in emp_dict.keys():\n",
    "    print(\"Emplo present in the dictionary\")\n",
    "else:\n",
    "    print(\"Employee_id not present in the dictionary\")\n"
   ]
  },
  {
   "cell_type": "code",
   "execution_count": null,
   "id": "88ff38b2-16e0-4c2e-bc47-faf29d1ea4f0",
   "metadata": {},
   "outputs": [],
   "source": []
  }
 ],
 "metadata": {
  "kernelspec": {
   "display_name": "Python 3 (ipykernel)",
   "language": "python",
   "name": "python3"
  },
  "language_info": {
   "codemirror_mode": {
    "name": "ipython",
    "version": 3
   },
   "file_extension": ".py",
   "mimetype": "text/x-python",
   "name": "python",
   "nbconvert_exporter": "python",
   "pygments_lexer": "ipython3",
   "version": "3.11.7"
  }
 },
 "nbformat": 4,
 "nbformat_minor": 5
}
