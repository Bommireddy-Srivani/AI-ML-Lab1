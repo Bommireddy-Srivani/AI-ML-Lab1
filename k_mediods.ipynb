{
 "cells": [
  {
   "cell_type": "code",
   "execution_count": 1,
   "id": "6f4ff9b4-0ce0-466e-a1fc-18feca20101a",
   "metadata": {},
   "outputs": [
    {
     "name": "stdout",
     "output_type": "stream",
     "text": [
      "Collecting scikit-learn-extra\n",
      "  Downloading scikit_learn_extra-0.3.0-cp311-cp311-win_amd64.whl.metadata (3.7 kB)\n",
      "Requirement already satisfied: numpy>=1.13.3 in c:\\users\\srivani\\anaconda3\\lib\\site-packages (from scikit-learn-extra) (1.26.4)\n",
      "Requirement already satisfied: scipy>=0.19.1 in c:\\users\\srivani\\anaconda3\\lib\\site-packages (from scikit-learn-extra) (1.11.4)\n",
      "Requirement already satisfied: scikit-learn>=0.23.0 in c:\\users\\srivani\\anaconda3\\lib\\site-packages (from scikit-learn-extra) (1.2.2)\n",
      "Requirement already satisfied: joblib>=1.1.1 in c:\\users\\srivani\\anaconda3\\lib\\site-packages (from scikit-learn>=0.23.0->scikit-learn-extra) (1.2.0)\n",
      "Requirement already satisfied: threadpoolctl>=2.0.0 in c:\\users\\srivani\\anaconda3\\lib\\site-packages (from scikit-learn>=0.23.0->scikit-learn-extra) (2.2.0)\n",
      "Downloading scikit_learn_extra-0.3.0-cp311-cp311-win_amd64.whl (340 kB)\n",
      "   ---------------------------------------- 0.0/340.5 kB ? eta -:--:--\n",
      "   - -------------------------------------- 10.2/340.5 kB ? eta -:--:--\n",
      "   -- ------------------------------------ 20.5/340.5 kB 217.9 kB/s eta 0:00:02\n",
      "   --- ----------------------------------- 30.7/340.5 kB 262.6 kB/s eta 0:00:02\n",
      "   ----- --------------------------------- 51.2/340.5 kB 327.7 kB/s eta 0:00:01\n",
      "   ----- --------------------------------- 51.2/340.5 kB 327.7 kB/s eta 0:00:01\n",
      "   -------------- ----------------------- 133.1/340.5 kB 657.1 kB/s eta 0:00:01\n",
      "   ----------------------------- -------- 266.2/340.5 kB 966.0 kB/s eta 0:00:01\n",
      "   -------------------------------------  337.9/340.5 kB 999.0 kB/s eta 0:00:01\n",
      "   ---------------------------------------- 340.5/340.5 kB 1.0 MB/s eta 0:00:00\n",
      "Installing collected packages: scikit-learn-extra\n",
      "Successfully installed scikit-learn-extra-0.3.0\n"
     ]
    }
   ],
   "source": [
    "!pip install scikit-learn-extra"
   ]
  },
  {
   "cell_type": "code",
   "execution_count": 3,
   "id": "3f7598ce-b8b7-4ccf-a9c0-574d9a1d82d7",
   "metadata": {},
   "outputs": [],
   "source": [
    "import numpy as np\n",
    "import matplotlib.pyplot as plt\n",
    "from sklearn_extra.cluster import KMedoids"
   ]
  },
  {
   "cell_type": "code",
   "execution_count": 4,
   "id": "3e4089b5-960a-49ee-9e17-bb3805ace5bd",
   "metadata": {},
   "outputs": [],
   "source": [
    "points={\"A\":[1,1],\"B\":[2,1],\"C\":[2,2],\"D\":[8,8],\"E\":[9,8],\"F\":[9,9]}\n",
    "labels=list(points.keys())\n",
    "data=np.array(list(points.values()))"
   ]
  },
  {
   "cell_type": "code",
   "execution_count": 5,
   "id": "11ca758e-a187-4b40-b6a0-80d91f357e5d",
   "metadata": {},
   "outputs": [
    {
     "data": {
      "text/html": [
       "<style>#sk-container-id-1 {color: black;background-color: white;}#sk-container-id-1 pre{padding: 0;}#sk-container-id-1 div.sk-toggleable {background-color: white;}#sk-container-id-1 label.sk-toggleable__label {cursor: pointer;display: block;width: 100%;margin-bottom: 0;padding: 0.3em;box-sizing: border-box;text-align: center;}#sk-container-id-1 label.sk-toggleable__label-arrow:before {content: \"▸\";float: left;margin-right: 0.25em;color: #696969;}#sk-container-id-1 label.sk-toggleable__label-arrow:hover:before {color: black;}#sk-container-id-1 div.sk-estimator:hover label.sk-toggleable__label-arrow:before {color: black;}#sk-container-id-1 div.sk-toggleable__content {max-height: 0;max-width: 0;overflow: hidden;text-align: left;background-color: #f0f8ff;}#sk-container-id-1 div.sk-toggleable__content pre {margin: 0.2em;color: black;border-radius: 0.25em;background-color: #f0f8ff;}#sk-container-id-1 input.sk-toggleable__control:checked~div.sk-toggleable__content {max-height: 200px;max-width: 100%;overflow: auto;}#sk-container-id-1 input.sk-toggleable__control:checked~label.sk-toggleable__label-arrow:before {content: \"▾\";}#sk-container-id-1 div.sk-estimator input.sk-toggleable__control:checked~label.sk-toggleable__label {background-color: #d4ebff;}#sk-container-id-1 div.sk-label input.sk-toggleable__control:checked~label.sk-toggleable__label {background-color: #d4ebff;}#sk-container-id-1 input.sk-hidden--visually {border: 0;clip: rect(1px 1px 1px 1px);clip: rect(1px, 1px, 1px, 1px);height: 1px;margin: -1px;overflow: hidden;padding: 0;position: absolute;width: 1px;}#sk-container-id-1 div.sk-estimator {font-family: monospace;background-color: #f0f8ff;border: 1px dotted black;border-radius: 0.25em;box-sizing: border-box;margin-bottom: 0.5em;}#sk-container-id-1 div.sk-estimator:hover {background-color: #d4ebff;}#sk-container-id-1 div.sk-parallel-item::after {content: \"\";width: 100%;border-bottom: 1px solid gray;flex-grow: 1;}#sk-container-id-1 div.sk-label:hover label.sk-toggleable__label {background-color: #d4ebff;}#sk-container-id-1 div.sk-serial::before {content: \"\";position: absolute;border-left: 1px solid gray;box-sizing: border-box;top: 0;bottom: 0;left: 50%;z-index: 0;}#sk-container-id-1 div.sk-serial {display: flex;flex-direction: column;align-items: center;background-color: white;padding-right: 0.2em;padding-left: 0.2em;position: relative;}#sk-container-id-1 div.sk-item {position: relative;z-index: 1;}#sk-container-id-1 div.sk-parallel {display: flex;align-items: stretch;justify-content: center;background-color: white;position: relative;}#sk-container-id-1 div.sk-item::before, #sk-container-id-1 div.sk-parallel-item::before {content: \"\";position: absolute;border-left: 1px solid gray;box-sizing: border-box;top: 0;bottom: 0;left: 50%;z-index: -1;}#sk-container-id-1 div.sk-parallel-item {display: flex;flex-direction: column;z-index: 1;position: relative;background-color: white;}#sk-container-id-1 div.sk-parallel-item:first-child::after {align-self: flex-end;width: 50%;}#sk-container-id-1 div.sk-parallel-item:last-child::after {align-self: flex-start;width: 50%;}#sk-container-id-1 div.sk-parallel-item:only-child::after {width: 0;}#sk-container-id-1 div.sk-dashed-wrapped {border: 1px dashed gray;margin: 0 0.4em 0.5em 0.4em;box-sizing: border-box;padding-bottom: 0.4em;background-color: white;}#sk-container-id-1 div.sk-label label {font-family: monospace;font-weight: bold;display: inline-block;line-height: 1.2em;}#sk-container-id-1 div.sk-label-container {text-align: center;}#sk-container-id-1 div.sk-container {/* jupyter's `normalize.less` sets `[hidden] { display: none; }` but bootstrap.min.css set `[hidden] { display: none !important; }` so we also need the `!important` here to be able to override the default hidden behavior on the sphinx rendered scikit-learn.org. See: https://github.com/scikit-learn/scikit-learn/issues/21755 */display: inline-block !important;position: relative;}#sk-container-id-1 div.sk-text-repr-fallback {display: none;}</style><div id=\"sk-container-id-1\" class=\"sk-top-container\"><div class=\"sk-text-repr-fallback\"><pre>KMedoids(n_clusters=2, random_state=42)</pre><b>In a Jupyter environment, please rerun this cell to show the HTML representation or trust the notebook. <br />On GitHub, the HTML representation is unable to render, please try loading this page with nbviewer.org.</b></div><div class=\"sk-container\" hidden><div class=\"sk-item\"><div class=\"sk-estimator sk-toggleable\"><input class=\"sk-toggleable__control sk-hidden--visually\" id=\"sk-estimator-id-1\" type=\"checkbox\" checked><label for=\"sk-estimator-id-1\" class=\"sk-toggleable__label sk-toggleable__label-arrow\">KMedoids</label><div class=\"sk-toggleable__content\"><pre>KMedoids(n_clusters=2, random_state=42)</pre></div></div></div></div></div>"
      ],
      "text/plain": [
       "KMedoids(n_clusters=2, random_state=42)"
      ]
     },
     "execution_count": 5,
     "metadata": {},
     "output_type": "execute_result"
    }
   ],
   "source": [
    "kmedoids=KMedoids(n_clusters=2,random_state=42,method='alternate',metric='euclidean')\n",
    "kmedoids.fit(data)"
   ]
  },
  {
   "cell_type": "code",
   "execution_count": 14,
   "id": "9d443be6-f5b5-42aa-bc1d-056c8b46946b",
   "metadata": {},
   "outputs": [
    {
     "name": "stdout",
     "output_type": "stream",
     "text": [
      "[1 1 1 0 0 0]\n",
      "[4 1]\n",
      "[[9 8]\n",
      " [2 1]]\n"
     ]
    }
   ],
   "source": [
    "cluster_labels=kmedoids.labels_\n",
    "medoid_indices=kmedoids.medoid_indices_\n",
    "medoid_points=data[medoid_indices]\n",
    "print(cluster_labels)\n",
    "print(medoid_indices)\n",
    "print(medoid_points)"
   ]
  },
  {
   "cell_type": "code",
   "execution_count": 16,
   "id": "3f0e6161-59ea-4901-aadd-5f427b5360cd",
   "metadata": {},
   "outputs": [
    {
     "data": {
      "image/png": "[encoded data removed]",
      "text/plain": [
       "<Figure size 800x600 with 1 Axes>"
      ]
     },
     "metadata": {},
     "output_type": "display_data"
    }
   ],
   "source": [
    "plt.figure(figsize=(8,6))\n",
    "colors=['C0','C1']\n",
    "for i,point in enumerate(data):\n",
    "    plt.scatter(point[0],point[1],c=colors[cluster_labels[i]],label=labels[i])\n",
    "    plt.text(point[0]+0.1,point[1],labels[i],fontsize=12)\n",
    "plt.scatter(medoid_points[:,0],medoid_points[:,1],c='black',marker='*',s=200,label='Medoids')\n",
    "plt.title(\"K-Medoids Clustering (k==2)\")\n",
    "plt.xlabel(\"X\")\n",
    "plt.ylabel(\"Y\")\n",
    "plt.show()"
   ]
  },
  {
   "cell_type": "code",
   "execution_count": null,
   "id": "53e71f5e-a6ea-4798-be0f-abb6c2fdbe6e",
   "metadata": {},
   "outputs": [],
   "source": []
  }
 ],
 "metadata": {
  "kernelspec": {
   "display_name": "Python 3 (ipykernel)",
   "language": "python",
   "name": "python3"
  },
  "language_info": {
   "codemirror_mode": {
    "name": "ipython",
    "version": 3
   },
   "file_extension": ".py",
   "mimetype": "text/x-python",
   "name": "python",
   "nbconvert_exporter": "python",
   "pygments_lexer": "ipython3",
   "version": "3.11.7"
  }
 },
 "nbformat": 4,
 "nbformat_minor": 5
}
