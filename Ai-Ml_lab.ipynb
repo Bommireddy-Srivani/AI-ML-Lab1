{
 "cells": [
  {
   "cell_type": "code",
   "execution_count": 3,
   "id": "95ca69c2-6aa8-44fd-971a-320c8ae20203",
   "metadata": {},
   "outputs": [
    {
     "name": "stdin",
     "output_type": "stream",
     "text": [
      " 4\n",
      " 3\n",
      " 2\n"
     ]
    },
    {
     "name": "stdout",
     "output_type": "stream",
     "text": [
      "14\n"
     ]
    }
   ],
   "source": [
    "won=int(input())\n",
    "loss=int(input())\n",
    "draw=int(input())\n",
    "total_points=(won*3)+(draw*1)\n",
    "print(total_points)"
   ]
  },
  {
   "cell_type": "code",
   "execution_count": 5,
   "id": "3b90f13e-69db-430b-8f14-3b5c0fce956d",
   "metadata": {},
   "outputs": [
    {
     "name": "stdin",
     "output_type": "stream",
     "text": [
      "Enter the quantity of rasin:  50\n",
      "Enter the quantity of almond:  60\n",
      "Enter the quantity of apricot:  20\n"
     ]
    },
    {
     "name": "stdout",
     "output_type": "stream",
     "text": [
      "38.46153846153847\n",
      "46.15384615384615\n",
      "15.384615384615385\n"
     ]
    }
   ],
   "source": [
    "rasin=int(input(\"Enter the quantity of rasin: \"))\n",
    "almond=int(input(\"Enter the quantity of almond: \"))\n",
    "apricot=int(input(\"Enter the quantity of apricot: \"))\n",
    "total=rasin+almond+apricot\n",
    "rasin_per=(rasin/total)*100\n",
    "almond_per=(almond/total)*100\n",
    "apricot_per=(apricot/total)*100\n",
    "print(rasin_per)\n",
    "print(almond_per)\n",
    "print(apricot_per)"
   ]
  },
  {
   "cell_type": "code",
   "execution_count": 7,
   "id": "0783efb3-8eb3-40c9-9e27-2fdf5932efd5",
   "metadata": {},
   "outputs": [
    {
     "name": "stdin",
     "output_type": "stream",
     "text": [
      "Enter the number:  3\n"
     ]
    },
    {
     "name": "stdout",
     "output_type": "stream",
     "text": [
      "odd number\n"
     ]
    }
   ],
   "source": [
    "num=int(input(\"Enter the number: \"))\n",
    "if(num%2==0):\n",
    "    print(\"even number\")\n",
    "else:\n",
    "    print(\"odd number\")"
   ]
  },
  {
   "cell_type": "code",
   "execution_count": 9,
   "id": "666401e8-370b-4856-bc65-ffaeaaeb88f8",
   "metadata": {},
   "outputs": [
    {
     "name": "stdin",
     "output_type": "stream",
     "text": [
      "Enter the person's age:  12\n"
     ]
    },
    {
     "name": "stdout",
     "output_type": "stream",
     "text": [
      "Not eligible to vote\n"
     ]
    }
   ],
   "source": [
    "age=int(input(\"Enter the person's age: \"))\n",
    "if(age>18):\n",
    "    print(\"Eligible to vote\")\n",
    "else:\n",
    "    print(\"Not eligible to vote\")"
   ]
  },
  {
   "cell_type": "code",
   "execution_count": 11,
   "id": "5882aad8-6172-400b-b788-8c54932422dc",
   "metadata": {},
   "outputs": [
    {
     "name": "stdin",
     "output_type": "stream",
     "text": [
      "Enter the number:  7\n"
     ]
    },
    {
     "name": "stdout",
     "output_type": "stream",
     "text": [
      "It is a prime number\n"
     ]
    }
   ],
   "source": [
    "#prime number\n",
    "num=int(input(\"Enter the number: \"))\n",
    "flag=0\n",
    "for i in range(2,num):\n",
    "    if(num%i==0):\n",
    "        flag=0\n",
    "        break\n",
    "    else:\n",
    "        flag=1\n",
    "if(flag==1):\n",
    "    print(\"It is a prime number\")\n",
    "else:\n",
    "    print(\"It is not a prime number\")"
   ]
  },
  {
   "cell_type": "code",
   "execution_count": 12,
   "id": "b9b19827-5325-4eb4-be4f-1b8d6e9dbf56",
   "metadata": {},
   "outputs": [
    {
     "name": "stdin",
     "output_type": "stream",
     "text": [
      " 3\n",
      " 4\n"
     ]
    },
    {
     "name": "stdout",
     "output_type": "stream",
     "text": [
      "4\n"
     ]
    }
   ],
   "source": [
    "num1=int(input())\n",
    "num2=int(input())\n",
    "if(num1>num2):\n",
    "    print(num1)\n",
    "else:\n",
    "    print(num2)"
   ]
  },
  {
   "cell_type": "code",
   "execution_count": 14,
   "id": "2cc30768-31aa-46ec-a3e7-9419b61538af",
   "metadata": {},
   "outputs": [
    {
     "name": "stdin",
     "output_type": "stream",
     "text": [
      "Enter the number:  3\n"
     ]
    },
    {
     "name": "stdout",
     "output_type": "stream",
     "text": [
      "It is a positive number\n"
     ]
    }
   ],
   "source": [
    "num=int(input(\"Enter the number: \"))\n",
    "if(num>0):\n",
    "    print(\"It is a positive number\")\n",
    "elif(num<0):\n",
    "    print(\"It is a negative number\")\n",
    "else:\n",
    "    print(\"The number is 0\")"
   ]
  },
  {
   "cell_type": "code",
   "execution_count": 15,
   "id": "0b9607c7-96be-41cc-b16c-8455985bfbc5",
   "metadata": {},
   "outputs": [
    {
     "name": "stdin",
     "output_type": "stream",
     "text": [
      "Enter the number 56\n"
     ]
    },
    {
     "name": "stdout",
     "output_type": "stream",
     "text": [
      "The given number is not divisible by 5\n"
     ]
    }
   ],
   "source": [
    "num=int(input(\"Enter the number\"))\n",
    "if(num%5==0):\n",
    "    Print(\"The given number is divisible by 5\")\n",
    "else:\n",
    "    print(\"The given number is not divisible by 5\")"
   ]
  },
  {
   "cell_type": "code",
   "execution_count": 18,
   "id": "e83e6821-3efc-4cae-8e85-56674a7e9e3b",
   "metadata": {},
   "outputs": [
    {
     "name": "stdin",
     "output_type": "stream",
     "text": [
      "Enter a value:  5\n",
      "Enter b value:  8\n",
      "Enter c value:  10\n"
     ]
    },
    {
     "name": "stdout",
     "output_type": "stream",
     "text": [
      "The greatest number is: 10\n"
     ]
    }
   ],
   "source": [
    "a=int(input(\"Enter a value: \"))\n",
    "b=int(input(\"Enter b value: \"))\n",
    "c=int(input(\"Enter c value: \"))\n",
    "if(a>b and a>c):\n",
    "    print(\"The greatest number is:\",a)\n",
    "elif(b>a and b>c):\n",
    "    print(\"The greatest number is:\",b)\n",
    "else:\n",
    "    print(\"The greatest number is:\",c)"
   ]
  },
  {
   "cell_type": "code",
   "execution_count": 20,
   "id": "1bf4369e-fbaa-44fb-bf06-24fd585b9c40",
   "metadata": {},
   "outputs": [
    {
     "name": "stdin",
     "output_type": "stream",
     "text": [
      "Enter the current account Balance:  5000\n",
      "Enter the amount to withdraw:  2000\n"
     ]
    },
    {
     "name": "stdout",
     "output_type": "stream",
     "text": [
      "The current amount after withdrawal is 3000.0\n"
     ]
    }
   ],
   "source": [
    "#ATM\n",
    "account_balance=float(input(\"Enter the current account Balance: \"))\n",
    "withdraw_amount=int(input(\"Enter the amount to withdraw: \"))\n",
    "remaining_balance=account_balance-withdraw_amount\n",
    "if(withdraw_amount>account_balance):\n",
    "    print(\"Insufficient amount\")\n",
    "else:\n",
    "    print(\"The current amount after withdrawal is\",remaining_balance)"
   ]
  },
  {
   "cell_type": "code",
   "execution_count": 5,
   "id": "666333bb-43ea-4899-8a00-0b80de581928",
   "metadata": {},
   "outputs": [
    {
     "name": "stdout",
     "output_type": "stream",
     "text": [
      "1D array\n",
      "[10 20 30 40]\n",
      "2D array\n",
      "[[10 20]\n",
      " [20 30]]\n",
      "3D array\n",
      "[[[10 20 30]\n",
      "  [ 9  7 45]]\n",
      "\n",
      " [[23 76 98]\n",
      "  [67 98 10]]]\n"
     ]
    }
   ],
   "source": [
    "import numpy as np\n",
    "print(\"1D array\")\n",
    "ar=np.array([10,20,30,40])\n",
    "print(ar)\n",
    "print(\"2D array\")\n",
    "ar1=np.array([[10,20],[20,30]])\n",
    "print(ar1)\n",
    "print(\"3D array\")\n",
    "ar2=np.array([[[10,20,30],[9,7,45]],[[23,76,98],[67,98,10]]])\n",
    "print(ar2)"
   ]
  },
  {
   "cell_type": "code",
   "execution_count": 14,
   "id": "58b80c40-5ffd-4bea-8c62-1e0ec303ef97",
   "metadata": {},
   "outputs": [],
   "source": [
    "import numpy as np                                                                            #17/03/25\n",
    "import pandas as pd"
   ]
  },
  {
   "cell_type": "code",
   "execution_count": 4,
   "id": "bf7a7877-3bc1-4077-9038-68893a09129d",
   "metadata": {},
   "outputs": [
    {
     "name": "stdout",
     "output_type": "stream",
     "text": [
      "[10, 20, 30, 40]\n",
      "[10 20 30 40]\n"
     ]
    }
   ],
   "source": [
    "list=[10,20,30,40]\n",
    "print(list)\n",
    "arr=np.array(list)\n",
    "print(arr)"
   ]
  },
  {
   "cell_type": "code",
   "execution_count": 8,
   "id": "115d5d2e-648e-4e6a-ae0b-8e1668e49026",
   "metadata": {},
   "outputs": [
    {
     "name": "stdout",
     "output_type": "stream",
     "text": [
      "[[0. 0. 0.]\n",
      " [0. 0. 0.]\n",
      " [0. 0. 0.]]\n",
      "(3, 3)\n"
     ]
    }
   ],
   "source": [
    "a=np.zeros((3,3))\n",
    "print(a)\n",
    "print(a.shape)"
   ]
  },
  {
   "cell_type": "code",
   "execution_count": 31,
   "id": "28e597af-e3fd-4e43-a81e-9ab5fc640c3a",
   "metadata": {},
   "outputs": [
    {
     "name": "stdout",
     "output_type": "stream",
     "text": [
      "[ 3  9  3  8  5 10]\n"
     ]
    }
   ],
   "source": [
    "a4=np.array(np.random.randint(1,11,6))\n",
    "print(a4)"
   ]
  },
  {
   "cell_type": "code",
   "execution_count": 13,
   "id": "5d89b32e-64bc-47c4-9e64-0ee4fbf3c994",
   "metadata": {},
   "outputs": [
    {
     "name": "stdout",
     "output_type": "stream",
     "text": [
      "[0 1 1 1 0]\n"
     ]
    }
   ],
   "source": [
    "b=np.array(np.random.randint(0,2,5))\n",
    "print(b)"
   ]
  },
  {
   "cell_type": "code",
   "execution_count": 14,
   "id": "0badddf2-a152-4935-a26b-0d8bb084f6ed",
   "metadata": {},
   "outputs": [
    {
     "name": "stdout",
     "output_type": "stream",
     "text": [
      "[1 2 3 4 5 6]\n"
     ]
    },
    {
     "data": {
      "text/plain": [
       "array([[1, 2, 3],\n",
       "       [4, 5, 6]])"
      ]
     },
     "execution_count": 14,
     "metadata": {},
     "output_type": "execute_result"
    }
   ],
   "source": [
    "c=np.array([1,2,3,4,5,6])\n",
    "print(c)\n",
    "np.reshape(c,(2,3))"
   ]
  },
  {
   "cell_type": "code",
   "execution_count": 16,
   "id": "d8ce81d0-247e-4d1a-af49-95f1663b8e63",
   "metadata": {},
   "outputs": [
    {
     "data": {
      "text/plain": [
       "[5, 7, 9]"
      ]
     },
     "execution_count": 16,
     "metadata": {},
     "output_type": "execute_result"
    }
   ],
   "source": [
    "[(a+b) for a,b in zip([1,2,3],[4,5,6])]"
   ]
  },
  {
   "cell_type": "code",
   "execution_count": 18,
   "id": "829a5a62-1852-4e4f-a363-fdfec93a70dd",
   "metadata": {},
   "outputs": [
    {
     "name": "stdout",
     "output_type": "stream",
     "text": [
      "[3 7 2 9 5]\n",
      "The max number in an array is 9\n",
      "The min number in an array is 2\n"
     ]
    }
   ],
   "source": [
    "d=np.array([3,7,2,9,5])\n",
    "print(d)\n",
    "print(\"The max number in an array is\",np.max(d))\n",
    "print(\"The min number in an array is\",np.min(d))"
   ]
  },
  {
   "cell_type": "code",
   "execution_count": 21,
   "id": "ec707342-147d-4df0-a7fc-0c2543485ef1",
   "metadata": {},
   "outputs": [
    {
     "name": "stdout",
     "output_type": "stream",
     "text": [
      "[10 20 30 40 50]\n",
      "The mean is 30.0\n",
      "The standard deviation is 14.142135623730951\n"
     ]
    }
   ],
   "source": [
    "e=np.array([10,20,30,40,50])\n",
    "print(e)\n",
    "print(\"The mean is\",np.mean(e))\n",
    "print(\"The standard deviation is\",np.std(e))"
   ]
  },
  {
   "cell_type": "code",
   "execution_count": 25,
   "id": "0aa2d391-9ec6-4a2e-92de-891fc4439a8e",
   "metadata": {},
   "outputs": [
    {
     "name": "stdout",
     "output_type": "stream",
     "text": [
      "5 7 9 "
     ]
    }
   ],
   "source": [
    "# printing the numbers greater than 4 in an array\n",
    "f=np.array([1,3,5,7,9])\n",
    "for num in f:\n",
    "    if(num>4):\n",
    "        print(num,end=\" \")"
   ]
  },
  {
   "cell_type": "code",
   "execution_count": 28,
   "id": "2b034ee3-6eb7-480f-99e7-9941508197ee",
   "metadata": {},
   "outputs": [
    {
     "name": "stdout",
     "output_type": "stream",
     "text": [
      "[[19 22]\n",
      " [43 50]]\n",
      "[[19 22]\n",
      " [43 50]]\n"
     ]
    }
   ],
   "source": [
    "#multiplication of 2 matrices\n",
    "g=np.array([[1,2],[3,4]])\n",
    "h=np.array([[5,6],[7,8]])\n",
    "print(np.matmul(g,h))\n",
    "print(g@h)"
   ]
  },
  {
   "cell_type": "code",
   "execution_count": 3,
   "id": "7a0671ac-d95c-4d95-afac-2697f4b4ccd1",
   "metadata": {},
   "outputs": [
    {
     "name": "stdout",
     "output_type": "stream",
     "text": [
      "The value of the function at x= 2 is 6\n",
      "The value of the function at x= -1 is -6\n",
      "The value of the function at x= 1 is 0\n"
     ]
    }
   ],
   "source": [
    " #Find the value of the function                                                                               #18/3/25\n",
    "li=[2,-1,1]\n",
    "for x in li:\n",
    "    fun=(x**2)+(3*x)-4\n",
    "    print(\"The value of the function at x=\",x,\"is\",fun)"
   ]
  },
  {
   "cell_type": "code",
   "execution_count": 11,
   "id": "4a5ffffb-46a0-41f3-8084-f64e185be207",
   "metadata": {},
   "outputs": [
    {
     "name": "stdout",
     "output_type": "stream",
     "text": [
      "1 is the root of the given function.\n"
     ]
    }
   ],
   "source": [
    "#finding whether the x is a root of the given function or not\n",
    "import math\n",
    "def root(a,b,c,x):\n",
    "    r=(-b+math.sqrt((b**2)-(4*a*c)))/2*a\n",
    "    r1=(-b-math.sqrt((b**2)-(4*a*c)))/2*a\n",
    "    if(x==r or x==r1):\n",
    "        return True\n",
    "    return False\n",
    "li=[2,-1,1]\n",
    "a=1\n",
    "b=3\n",
    "c=-4\n",
    "for x in li:\n",
    "    if(root(a,b,c,x)):\n",
    "        print(x, \"is the root of the given function.\")"
   ]
  },
  {
   "cell_type": "code",
   "execution_count": 12,
   "id": "346dd99d-5bd4-49fb-892b-455c43e87639",
   "metadata": {},
   "outputs": [
    {
     "name": "stdin",
     "output_type": "stream",
     "text": [
      " 4\n",
      " 3\n",
      " 1\n"
     ]
    },
    {
     "name": "stdout",
     "output_type": "stream",
     "text": [
      "13\n"
     ]
    }
   ],
   "source": [
    "won=int(input())\n",
    "loss=int(input())\n",
    "draw=int(input())\n",
    "total_points=(won*3)+(draw*1)\n",
    "print(total_points)"
   ]
  },
  {
   "cell_type": "code",
   "execution_count": 13,
   "id": "a886d4f9-1a93-4799-bea8-201afd8a642e",
   "metadata": {},
   "outputs": [
    {
     "name": "stdin",
     "output_type": "stream",
     "text": [
      "Enter the number of apples:  45\n",
      "Enter the number of oranges:  65\n",
      "Enter the number of bananas:  30\n"
     ]
    },
    {
     "name": "stdout",
     "output_type": "stream",
     "text": [
      "32.142857142857146\n",
      "46.42857142857143\n",
      "21.428571428571427\n"
     ]
    }
   ],
   "source": [
    "apples=int(input(\"Enter the number of apples: \"))\n",
    "oranges=int(input(\"Enter the number of oranges: \"))\n",
    "bananas=int(input(\"Enter the number of bananas: \"))\n",
    "total=apples+oranges+bananas\n",
    "apples_per=(apples/total)*100\n",
    "oranges_per=(oranges/total)*100\n",
    "bananas_per=(bananas/total)*100\n",
    "print(apples_per)\n",
    "print(oranges_per)\n",
    "print(bananas_per)"
   ]
  },
  {
   "cell_type": "code",
   "execution_count": null,
   "id": "28fcafe2-e375-4b4f-a634-5e095e17056f",
   "metadata": {},
   "outputs": [],
   "source": [
    "total=int(input(\"Enter total number of participants in a game:\"))\n",
    "math=int(input(\"Enter total number of math majors in a game:\"))\n",
    "economic=int(input(\"Enter total number of economic majors in a game:\"))\n",
    "physics=int(input(\"Enter total number of physics majors in a game:\"))\n"
   ]
  },
  {
   "cell_type": "code",
   "execution_count": 18,
   "id": "daacfa52-cd65-44a6-b830-2ad718db7358",
   "metadata": {},
   "outputs": [
    {
     "name": "stdout",
     "output_type": "stream",
     "text": [
      "18\n"
     ]
    }
   ],
   "source": [
    "   #\"Wikipedia is a free online encylopedia,created by volunteers around the world and hosted by the wikipedia Foundation\".Find the number of words in given sentence.                    #19/3/25\n",
    "str=\"Wikipedia is a free online encylopedia,createtd by volunteers around the world and hosted by the wikipedia foundation.\"\n",
    "cnt=0\n",
    "for word in str:\n",
    "    if(word==\" \" or word==\",\"):\n",
    "        cnt=cnt+1\n",
    "print(cnt+1)\n",
    "        "
   ]
  },
  {
   "cell_type": "code",
   "execution_count": 20,
   "id": "e8ad6d14-5482-4839-af2a-b9f956dd4c49",
   "metadata": {},
   "outputs": [
    {
     "name": "stdin",
     "output_type": "stream",
     "text": [
      " 4\n"
     ]
    },
    {
     "name": "stdout",
     "output_type": "stream",
     "text": [
      "----\n"
     ]
    }
   ],
   "source": [
    "#Write a python code which takes a number and returns a corresponding string of hypens.For example if the number is 3,it will return '---' .\n",
    "num=int(input())\n",
    "str=\"\"\n",
    "for i in range(num):\n",
    "    str=str+\"-\"\n",
    "print(str)"
   ]
  },
  {
   "cell_type": "code",
   "execution_count": 26,
   "id": "046f6615-3f75-4f8c-93b0-7175d1e1db0b",
   "metadata": {},
   "outputs": [
    {
     "name": "stdin",
     "output_type": "stream",
     "text": [
      " bvjgiuh\n"
     ]
    },
    {
     "name": "stdout",
     "output_type": "stream",
     "text": [
      "String is a Safe bridge\n"
     ]
    }
   ],
   "source": [
    "#Astring can be called a safe bridge if it has no gaps in it i.e;no spaces.you are supposed to take an input from the users and print whether the string is safe bridge or not.\n",
    "str=input()\n",
    "\n",
    "if \" \" in str:\n",
    "    print(\"String is not a Safe bridge\")\n",
    "else:\n",
    "    print(\"String is a Safe bridge\")\n"
   ]
  },
  {
   "cell_type": "code",
   "execution_count": 28,
   "id": "2fc97eb3-f3cb-41f6-8f61-3ca2c265853d",
   "metadata": {},
   "outputs": [
    {
     "name": "stdout",
     "output_type": "stream",
     "text": [
      "2\n"
     ]
    }
   ],
   "source": [
    "#count the number of \"D\".This will be Case sensitive.\n",
    "#User_String=\"Debris was scattered all over the place in the densert regarding Denmark.\"\n",
    "str=\"Debris was scattered all over the place in the densert regarding Denmark.\"  \n",
    "print(str.count(\"D\"))"
   ]
  },
  {
   "cell_type": "code",
   "execution_count": 35,
   "id": "325f6d06-0f96-4d1c-9559-fe36c3992261",
   "metadata": {},
   "outputs": [
    {
     "name": "stdin",
     "output_type": "stream",
     "text": [
      " madam\n"
     ]
    },
    {
     "name": "stdout",
     "output_type": "stream",
     "text": [
      "madam\n",
      "String is a palindrome\n"
     ]
    }
   ],
   "source": [
    "#check whether a given string is palindrone.\n",
    "str=input()\n",
    "str1=\"\"\n",
    "for i in range(len(str)-1,-1,-1):\n",
    "    str1=str1+str[i]\n",
    "if(str==str1):\n",
    "    print(\"String is a palindrome\")\n",
    "else:\n",
    "    print(\"String is not a palindrome\")"
   ]
  },
  {
   "cell_type": "code",
   "execution_count": null,
   "id": "7cf79907-7a79-411d-83c4-3877c49ad6bf",
   "metadata": {},
   "outputs": [],
   "source": []
  }
 ],
 "metadata": {
  "kernelspec": {
   "display_name": "Python 3 (ipykernel)",
   "language": "python",
   "name": "python3"
  },
  "language_info": {
   "codemirror_mode": {
    "name": "ipython",
    "version": 3
   },
   "file_extension": ".py",
   "mimetype": "text/x-python",
   "name": "python",
   "nbconvert_exporter": "python",
   "pygments_lexer": "ipython3",
   "version": "3.11.7"
  }
 },
 "nbformat": 4,
 "nbformat_minor": 5
}
