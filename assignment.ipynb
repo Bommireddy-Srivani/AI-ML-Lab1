{
 "cells": [
  {
   "cell_type": "code",
   "execution_count": 31,
   "id": "f0008d59-7496-49f8-a267-132d07d074b7",
   "metadata": {},
   "outputs": [
    {
     "name": "stdout",
     "output_type": "stream",
     "text": [
      "Enter the original array: [34, 40, 29, 33, 42, 37, 39]\n",
      "Enter the array after swapping: [34, 40, 42, 33, 29, 37, 39]\n"
     ]
    }
   ],
   "source": [
    "#A list contain average daily temperature(in degree celsius) of a city over a particular week.write python code to swap the hoghest and lowest temperature\n",
    "import numpy as np\n",
    "temp=[34,40,29,33,42,37,39]\n",
    "print(\"Enter the original array:\",temp)\n",
    "i=temp.index(min(temp))\n",
    "j=temp.index(max(temp))\n",
    "prev=min(temp)\n",
    "temp[i]=temp[j]\n",
    "temp[j]=prev\n",
    "print(\"Enter the array after swapping:\",temp)"
   ]
  },
  {
   "cell_type": "code",
   "execution_count": 56,
   "id": "7dd0bd10-decf-4f77-bf15-777ecc5b3be2",
   "metadata": {},
   "outputs": [
    {
     "name": "stdout",
     "output_type": "stream",
     "text": [
      "Mean: 1975.0\n",
      "medium: 575.0\n"
     ]
    }
   ],
   "source": [
    "#Mean is defined as sum of all elements divided by number of elements.Median is middle number in a sorted,ascending or descending,\n",
    "#of list has N Nnumbers Where Nis odd then,medium=(N+1)/2th element,If N is even number median is mean of (N/2)th and (N+1)/2th element,\n",
    "#calculate mean and median\n",
    "list=[400,250,800,550,600,820,720,15000,360,250]\n",
    "sum=0\n",
    "for i in range(len(list)):\n",
    "    sum=sum+list[i]\n",
    "print(\"Mean:\",sum/len(list))\n",
    "list1=sorted(list)\n",
    "n=len(list)\n",
    "print(\"medium:\",(list1[n//2]+list1[(n//2)-1])/2)"
   ]
  },
  {
   "cell_type": "code",
   "execution_count": null,
   "id": "bf6fdd1b-7143-454e-b6ca-20c07d65374b",
   "metadata": {},
   "outputs": [],
   "source": [
    "#The list of tech companies curated by individual.\n",
    "tech_companies=['Qualcomn','Google','Apple',['Nuidie','Cisco','Samsung']]\n",
    "print(\"The initial list of companies:\",tech_companies)\n",
    "list=tech_companies[3]\n",
    "tech_companies.pop(3)\n",
    "for word in list:\n",
    "    tech_companies.append"
   ]
  }
 ],
 "metadata": {
  "kernelspec": {
   "display_name": "Python 3 (ipykernel)",
   "language": "python",
   "name": "python3"
  },
  "language_info": {
   "codemirror_mode": {
    "name": "ipython",
    "version": 3
   },
   "file_extension": ".py",
   "mimetype": "text/x-python",
   "name": "python",
   "nbconvert_exporter": "python",
   "pygments_lexer": "ipython3",
   "version": "3.11.7"
  }
 },
 "nbformat": 4,
 "nbformat_minor": 5
}
